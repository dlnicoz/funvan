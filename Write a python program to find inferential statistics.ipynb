{
 "cells": [
  {
   "cell_type": "code",
   "execution_count": 1,
   "id": "f1af27c1",
   "metadata": {},
   "outputs": [
    {
     "name": "stdout",
     "output_type": "stream",
     "text": [
      "Chi-stats:44731.26136298286\n",
      "p_value:0.0\n",
      "Degree of freedom :5580\n",
      "excepted frequency:[[2.66580345e-04 3.80829065e-05 7.61658130e-05 ... 1.52331626e-04\n",
      "  1.52331626e-04 1.14248719e-04]\n",
      " [9.66353752e-04 1.38050536e-04 2.76101072e-04 ... 5.52202144e-04\n",
      "  5.52202144e-04 4.14151608e-04]\n",
      " [5.46489708e-03 7.80699583e-04 1.56139917e-03 ... 3.12279833e-03\n",
      "  3.12279833e-03 2.34209875e-03]\n",
      " ...\n",
      " [6.66450864e-05 9.52072662e-06 1.90414532e-05 ... 3.80829065e-05\n",
      "  3.80829065e-05 2.85621799e-05]\n",
      " [6.66450864e-05 9.52072662e-06 1.90414532e-05 ... 3.80829065e-05\n",
      "  3.80829065e-05 2.85621799e-05]\n",
      " [6.66450864e-05 9.52072662e-06 1.90414532e-05 ... 3.80829065e-05\n",
      "  3.80829065e-05 2.85621799e-05]]\n"
     ]
    }
   ],
   "source": [
    "import pandas as pd\n",
    "data=pd.read_csv('athlete_events.csv')\n",
    "from scipy.stats import chi2_contingency\n",
    "contingency_table=pd.crosstab(data['Age'],data['Height'])\n",
    "chi2_stat,p_value,dof,excepted = chi2_contingency(contingency_table)\n",
    "print(f\"Chi-stats:{chi2_stat}\")\n",
    "print(f\"p_value:{p_value}\")\n",
    "print(f\"Degree of freedom :{dof}\")\n",
    "print(f\"excepted frequency:{excepted}\")\n"
   ]
  },
  {
   "cell_type": "code",
   "execution_count": null,
   "id": "bd4e7980",
   "metadata": {},
   "outputs": [],
   "source": []
  }
 ],
 "metadata": {
  "kernelspec": {
   "display_name": "Python 3 (ipykernel)",
   "language": "python",
   "name": "python3"
  },
  "language_info": {
   "codemirror_mode": {
    "name": "ipython",
    "version": 3
   },
   "file_extension": ".py",
   "mimetype": "text/x-python",
   "name": "python",
   "nbconvert_exporter": "python",
   "pygments_lexer": "ipython3",
   "version": "3.11.5"
  }
 },
 "nbformat": 4,
 "nbformat_minor": 5
}
