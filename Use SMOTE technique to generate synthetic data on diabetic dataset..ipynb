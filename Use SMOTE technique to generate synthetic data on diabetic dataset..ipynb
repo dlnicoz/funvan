{
 "cells": [
  {
   "cell_type": "code",
   "execution_count": 1,
   "id": "bdffbe92",
   "metadata": {},
   "outputs": [],
   "source": [
    "import pandas as pd\n",
    "from sklearn.model_selection import train_test_split\n",
    "from sklearn.ensemble import RandomForestClassifier\n",
    "from sklearn.metrics import classification_report\n",
    "from imblearn.over_sampling import SMOTE\n"
   ]
  },
  {
   "cell_type": "code",
   "execution_count": 2,
   "id": "b7ed0946",
   "metadata": {},
   "outputs": [],
   "source": [
    "data=pd.read_csv('diabetes.csv')"
   ]
  },
  {
   "cell_type": "code",
   "execution_count": 3,
   "id": "930e685a",
   "metadata": {},
   "outputs": [],
   "source": [
    "X = data[['Pregnancies', 'Glucose', 'BloodPressure', 'SkinThickness', 'Insulin', 'BMI', 'DiabetesPedigreeFunction', 'Age']]\n",
    "y = data['Outcome']"
   ]
  },
  {
   "cell_type": "code",
   "execution_count": 4,
   "id": "6eb63e05",
   "metadata": {},
   "outputs": [],
   "source": [
    "X_train, X_test, y_train, y_test = train_test_split(X, y, test_size=0.3, random_state=42)"
   ]
  },
  {
   "cell_type": "code",
   "execution_count": 5,
   "id": "310f358a",
   "metadata": {},
   "outputs": [],
   "source": [
    "rf_classifier_before = RandomForestClassifier(random_state=42)\n",
    "rf_classifier_before.fit(X_train, y_train)\n",
    "y_pred_before = rf_classifier_before.predict(X_test)\n",
    "classification_report_before = classification_report(y_test, y_pred_before)"
   ]
  },
  {
   "cell_type": "code",
   "execution_count": 6,
   "id": "ad0fcdee",
   "metadata": {},
   "outputs": [],
   "source": [
    "smote = SMOTE()\n",
    "X_resampled, y_resampled = smote.fit_resample(X_train, y_train)"
   ]
  },
  {
   "cell_type": "code",
   "execution_count": 7,
   "id": "58fd7366",
   "metadata": {},
   "outputs": [],
   "source": [
    "rf_classifier_after = RandomForestClassifier(random_state=42)\n",
    "rf_classifier_after.fit(X_resampled, y_resampled)\n",
    "y_pred_after = rf_classifier_after.predict(X_test)\n",
    "classification_report_after = classification_report(y_test, y_pred_after)\n"
   ]
  },
  {
   "cell_type": "code",
   "execution_count": 8,
   "id": "c236604a",
   "metadata": {},
   "outputs": [
    {
     "name": "stdout",
     "output_type": "stream",
     "text": [
      "Classification Report BEFORE SMOTE:\n",
      "              precision    recall  f1-score   support\n",
      "\n",
      "           0       0.82      0.80      0.81       151\n",
      "           1       0.64      0.66      0.65        80\n",
      "\n",
      "    accuracy                           0.75       231\n",
      "   macro avg       0.73      0.73      0.73       231\n",
      "weighted avg       0.76      0.75      0.75       231\n",
      "\n",
      "\n",
      "Classification Report AFTER SMOTE:\n",
      "              precision    recall  f1-score   support\n",
      "\n",
      "           0       0.83      0.75      0.79       151\n",
      "           1       0.60      0.70      0.65        80\n",
      "\n",
      "    accuracy                           0.74       231\n",
      "   macro avg       0.71      0.73      0.72       231\n",
      "weighted avg       0.75      0.74      0.74       231\n",
      "\n"
     ]
    }
   ],
   "source": [
    "print(\"Classification Report BEFORE SMOTE:\")\n",
    "print(classification_report_before)\n",
    "print(\"\\nClassification Report AFTER SMOTE:\")\n",
    "print(classification_report_after)"
   ]
  },
  {
   "cell_type": "code",
   "execution_count": null,
   "id": "0d4a0c8a",
   "metadata": {},
   "outputs": [],
   "source": []
  }
 ],
 "metadata": {
  "kernelspec": {
   "display_name": "Python 3 (ipykernel)",
   "language": "python",
   "name": "python3"
  },
  "language_info": {
   "codemirror_mode": {
    "name": "ipython",
    "version": 3
   },
   "file_extension": ".py",
   "mimetype": "text/x-python",
   "name": "python",
   "nbconvert_exporter": "python",
   "pygments_lexer": "ipython3",
   "version": "3.11.5"
  }
 },
 "nbformat": 4,
 "nbformat_minor": 5
}
