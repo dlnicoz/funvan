{
 "cells": [
  {
   "cell_type": "code",
   "execution_count": 2,
   "id": "1445ca92",
   "metadata": {},
   "outputs": [
    {
     "name": "stdout",
     "output_type": "stream",
     "text": [
      "Outliers:\n",
      "            ID   Age  Height  Weight  Year\n",
      "57          18  31.0   189.0   130.0  2000\n",
      "80          22  22.0   170.0   125.0  2016\n",
      "90          28  47.0   170.0    77.0  1972\n",
      "125         46  33.0   194.0    93.0  1936\n",
      "192         87  29.0   188.0    97.0  1964\n",
      "...        ...   ...     ...     ...   ...\n",
      "270763  135410  22.0   156.0    40.0  2016\n",
      "270780  135419  29.0   157.0    56.0  1972\n",
      "270794  135427  31.0   175.0    69.0  1924\n",
      "270801  135431  25.0   193.0   134.0  2016\n",
      "270954  135493  27.0   165.0    73.0  1960\n",
      "\n",
      "[6020 rows x 5 columns]\n"
     ]
    }
   ],
   "source": [
    "import pandas as pd\n",
    "import numpy as np\n",
    "from sklearn.neighbors import NearestNeighbors\n",
    "\n",
    "data = pd.read_csv('athlete_events.csv')\n",
    "numeric_data = data.select_dtypes(include=[np.number])\n",
    "numeric_data = numeric_data.dropna()\n",
    "k = 5\n",
    "knn_model = NearestNeighbors(n_neighbors=k)\n",
    "knn_model.fit(numeric_data)\n",
    "distances, indices = knn_model.kneighbors()\n",
    "avg_distances = np.mean(distances, axis=1)\n",
    "threshold = np.mean(avg_distances) + 2 * np.std(avg_distances)\n",
    "outliers_indices = np.where(avg_distances > threshold)[0]\n",
    "outliers = numeric_data.iloc[outliers_indices]\n",
    "print(\"Outliers:\")\n",
    "print(outliers)"
   ]
  },
  {
   "cell_type": "code",
   "execution_count": null,
   "id": "9ed739d5",
   "metadata": {},
   "outputs": [],
   "source": []
  }
 ],
 "metadata": {
  "kernelspec": {
   "display_name": "Python 3 (ipykernel)",
   "language": "python",
   "name": "python3"
  },
  "language_info": {
   "codemirror_mode": {
    "name": "ipython",
    "version": 3
   },
   "file_extension": ".py",
   "mimetype": "text/x-python",
   "name": "python",
   "nbconvert_exporter": "python",
   "pygments_lexer": "ipython3",
   "version": "3.11.5"
  }
 },
 "nbformat": 4,
 "nbformat_minor": 5
}
